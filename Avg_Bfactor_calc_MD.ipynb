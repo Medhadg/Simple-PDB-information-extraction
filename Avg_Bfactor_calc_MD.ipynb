{
 "cells": [
  {
   "cell_type": "code",
   "execution_count": 15,
   "id": "114107ea",
   "metadata": {},
   "outputs": [],
   "source": [
    "import numpy as np\n",
    "import os\n",
    "import sys\n",
    "import urllib.request\n",
    "\n",
    "import Bio\n",
    "\n",
    "import Bio.SeqRecord"
   ]
  },
  {
   "cell_type": "code",
   "execution_count": 16,
   "id": "4cae751b",
   "metadata": {},
   "outputs": [
    {
     "name": "stdout",
     "output_type": "stream",
     "text": [
      "Requirement already satisfied: Biopython in c:\\users\\mdasgupta\\appdata\\local\\anaconda3\\lib\\site-packages (1.81)\n",
      "Requirement already satisfied: numpy in c:\\users\\mdasgupta\\appdata\\local\\anaconda3\\lib\\site-packages (from Biopython) (1.23.5)\n",
      "Note: you may need to restart the kernel to use updated packages.\n"
     ]
    }
   ],
   "source": [
    "pip install Biopython"
   ]
  },
  {
   "cell_type": "code",
   "execution_count": 38,
   "id": "fe95bab8",
   "metadata": {},
   "outputs": [],
   "source": [
    "#Enter input PDB file(s) \n",
    "\n",
    "from Bio.PDB import *\n",
    "parser = PDBParser()\n",
    "structure1 = parser.get_structure(\"JEFF_113\", \"113.PDB\")\n",
    "structure2 = parser.get_structure(\"JEFF_114\", \"114.PDB\")\n",
    "import warnings\n",
    "warnings.warn(\"ignore\")\n"
   ]
  },
  {
   "cell_type": "code",
   "execution_count": 39,
   "id": "8887dce0",
   "metadata": {},
   "outputs": [],
   "source": [
    "#Calculate sum of B factors in PDB1\n",
    "\n",
    "b_values1 = [] \n",
    "for atom in structure1.get_atoms():\n",
    "    b_values1.append(atom.get_bfactor()) \n",
    "    \n",
    "#Calculate sum of B factors in PDB2\n",
    "\n",
    "b_values2 = [] \n",
    "for atom in structure2.get_atoms():\n",
    "    b_values2.append(atom.get_bfactor())  "
   ]
  },
  {
   "cell_type": "code",
   "execution_count": 40,
   "id": "dacf7a4d",
   "metadata": {},
   "outputs": [
    {
     "name": "stdout",
     "output_type": "stream",
     "text": [
      "The average B-value in the input PDB file 1 is 30.98785073263248.\n",
      "The average B-value in the input PDB file 2 is 37.936759185373276.\n"
     ]
    }
   ],
   "source": [
    "#Calculate Average B factors\n",
    "\n",
    "avg_b1 = sum(b_values1) / len(b_values1)\n",
    "print(f'The average B-value in the input PDB file 1 is {avg_b1}.')\n",
    "\n",
    "avg_b2 = sum(b_values2) / len(b_values2)\n",
    "print(f'The average B-value in the input PDB file 2 is {avg_b2}.')"
   ]
  },
  {
   "cell_type": "code",
   "execution_count": 51,
   "id": "ce3fe86b",
   "metadata": {},
   "outputs": [
    {
     "data": {
      "image/png": "[encoded data removed]",
      "text/plain": [
       "<Figure size 640x480 with 1 Axes>"
      ]
     },
     "metadata": {},
     "output_type": "display_data"
    }
   ],
   "source": [
    "#Graphing the avg B factors in the teo input PDBs\n",
    "\n",
    "import matplotlib.pyplot as plt\n",
    "plt.bar(avg_b1, height= 10, width=0.5)\n",
    "plt.bar(avg_b2, height= 10, width=0.5)\n",
    "plt.show()\n"
   ]
  },
  {
   "cell_type": "code",
   "execution_count": null,
   "id": "847d79e2",
   "metadata": {},
   "outputs": [],
   "source": []
  },
  {
   "cell_type": "code",
   "execution_count": null,
   "id": "39d6c901",
   "metadata": {},
   "outputs": [],
   "source": []
  }
 ],
 "metadata": {
  "kernelspec": {
   "display_name": "Python 3 (ipykernel)",
   "language": "python",
   "name": "python3"
  },
  "language_info": {
   "codemirror_mode": {
    "name": "ipython",
    "version": 3
   },
   "file_extension": ".py",
   "mimetype": "text/x-python",
   "name": "python",
   "nbconvert_exporter": "python",
   "pygments_lexer": "ipython3",
   "version": "3.10.9"
  }
 },
 "nbformat": 4,
 "nbformat_minor": 5
}
